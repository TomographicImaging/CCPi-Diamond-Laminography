{
 "cells": [
  {
   "cell_type": "code",
   "execution_count": null,
   "id": "590d119f",
   "metadata": {},
   "outputs": [],
   "source": [
    "import numpy as np\n",
    "import matplotlib.pyplot as plt\n",
    "from scipy.spatial.transform import Rotation\n",
    "from cil.io import NEXUSDataReader\n",
    "from cil.utilities.display import show2D, show_geometry\n",
    "from cil.plugins.astra import ProjectionOperator\n",
    "from cil.plugins.astra.processors import FBP\n",
    "from cil.plugins.ccpi_regularisation.functions import FGP_TV\n",
    "from cil.optimisation.algorithms import FISTA\n",
    "from cil.optimisation.functions import LeastSquares\n",
    "from cil.processors import Padder"
   ]
  },
  {
   "cell_type": "markdown",
   "id": "4b141405",
   "metadata": {},
   "source": [
    "This notebook discusses the pros and cons of using the laminography geometry to image flat samples in 3D. For this example we use simulated data generated with the gVXR (GPU virtual x-ray) package which can be used to create realistic x-ray simulations. The simulations can be created by running the gvxr_cylinder_tilts notebook in the simulations folder"
   ]
  },
  {
   "cell_type": "markdown",
   "id": "23aec9c7",
   "metadata": {},
   "source": [
    "We load a simulated dataset of a silica cylinder containing spheres, to start we will simulate the cylinder on the xz plane, i.e. orthogonal to the beam travelling along y and compute a single xray image."
   ]
  },
  {
   "cell_type": "code",
   "execution_count": null,
   "id": "98320aa3",
   "metadata": {},
   "outputs": [],
   "source": [
    "data = NEXUSDataReader(\"../output_data/cylinder360.nxs\").read()\n",
    "show2D(data, slice_list=('angle',0))"
   ]
  },
  {
   "cell_type": "markdown",
   "id": "b884d48b",
   "metadata": {},
   "source": [
    "To reconstruct these projections into a 3D volume we need to define the experimental geometry.\n",
    "\n",
    "As above, we define the beam direction along the y axis, the detector in the x z plane, and rotation around z. We can view this geometry using `show_geometry`"
   ]
  },
  {
   "cell_type": "code",
   "execution_count": null,
   "id": "37de3118",
   "metadata": {},
   "outputs": [],
   "source": [
    "show_geometry(data.geometry)"
   ]
  },
  {
   "cell_type": "markdown",
   "id": "da8ef54f",
   "metadata": {},
   "source": [
    "Plot a range of angles"
   ]
  },
  {
   "cell_type": "code",
   "execution_count": null,
   "id": "472b464b",
   "metadata": {},
   "outputs": [],
   "source": [
    "show2D(data, slice_list=[('angle', 0), ('angle', 45), ('angle',90), ('angle', 135), ('angle',180)], num_cols=5, fix_range=True)"
   ]
  },
  {
   "cell_type": "markdown",
   "id": "a5a6aa6d",
   "metadata": {},
   "source": [
    "Notice that the projections have quite different levels of intensity at different projections as we look through the long and short plane of the flat sample.\n",
    "\n",
    "Let's see what it looks like if we try to reconstruct the grid from these projections. We use the filtered back projection (FBP) algorithm and view slices through the reconstructed volume."
   ]
  },
  {
   "cell_type": "code",
   "execution_count": null,
   "id": "8fc849fc",
   "metadata": {},
   "outputs": [],
   "source": [
    "# Reconstruct using FBP\n",
    "recon = FBP(image_geometry=None, acquisition_geometry=data.geometry)(data)\n",
    "\n",
    "# Plot the results\n",
    "slice_list = [('vertical','centre'), ('horizontal_y',int(recon.shape[1]/2)), ('horizontal_x',int(recon.shape[2]/2))]\n",
    "show2D(recon,\n",
    "       slice_list=slice_list,\n",
    "       num_cols=3)"
   ]
  },
  {
   "cell_type": "markdown",
   "id": "bd996bf9",
   "metadata": {},
   "source": [
    "We notice some strange artefacts in the reconstruction. This is because of the anisotropic absorption we noticed in the projections. In practice, it's often not even possible to scan the sample along the long edge, so tomography scans are limited in angle and similar artefacts are seen. A common solution to these kind of artefacts is to tilt the sample and rotation axis to give a more uniform absorption profile, this setup is called laminography. We load a dataset simulated in the laminography setup by projecting the original grid volume with a tilted rotation axis. Here we define the tilt as the angle from the x-y plane, and simulated a 30 degree tilt."
   ]
  },
  {
   "cell_type": "code",
   "execution_count": null,
   "id": "f189d47a",
   "metadata": {},
   "outputs": [],
   "source": [
    "data = NEXUSDataReader(\"../output_data/cylinder_tilt_30.nxs\").read()\n",
    "show2D(data, slice_list=[('angle', 0), ('angle', 45), ('angle',90), ('angle', 135), ('angle',180)], num_cols=5)\n",
    "show_geometry(data.geometry)"
   ]
  },
  {
   "cell_type": "markdown",
   "id": "3f349989",
   "metadata": {},
   "source": [
    "The projections now have very uniform attenuation. Let's try reconstructing this dataset"
   ]
  },
  {
   "cell_type": "code",
   "execution_count": null,
   "id": "3ef93d4d",
   "metadata": {},
   "outputs": [],
   "source": [
    "# Reconstruct using FBP\n",
    "recon = FBP(image_geometry=None, acquisition_geometry=data.geometry)(data)\n",
    "\n",
    "# Plot the results\n",
    "slice_list = [('vertical','centre'), ('horizontal_y',int(recon.shape[2]/2)), ('horizontal_x',int(recon.shape[1]/2))]\n",
    "show2D(recon,\n",
    "       slice_list=slice_list,\n",
    "       num_cols=3)"
   ]
  },
  {
   "cell_type": "markdown",
   "id": "a65bd991",
   "metadata": {},
   "source": [
    "There are also artefacts in this reconstruction which are due to the way the laminography setup causes an uneven distribution of projections. When considering using the laminography setup, we need to balance the impact of the different kinds of artefacts. In general we should use the smallest tilt angle possible to reduce the projection anisotropy."
   ]
  },
  {
   "cell_type": "code",
   "execution_count": null,
   "id": "8dd8e37b",
   "metadata": {},
   "outputs": [],
   "source": [
    "ag = data.geometry\n",
    "ig = ag.get_ImageGeometry()\n",
    "A = ProjectionOperator(ig, ag)\n",
    "\n",
    "# Recontruct with FISTA least squares with non-negativity constraint\n",
    "LS = LeastSquares(A=A, b=data)\n",
    "\n",
    "alpha = 0.005\n",
    "TV = FGP_TV(alpha=alpha, nonnegativity=True, device='gpu')\n",
    "\n",
    "fista_TV = FISTA(initial=ig.allocate(0), f=LS, g=TV, update_objective_interval=10)\n",
    "fista_TV.run(30)\n",
    "TV_reco = fista_TV.solution"
   ]
  },
  {
   "cell_type": "code",
   "execution_count": null,
   "id": "67ae04db",
   "metadata": {},
   "outputs": [],
   "source": [
    "slice_list = [('vertical','centre'), ('horizontal_y',int(recon.shape[1]/2)), ('horizontal_x',int(recon.shape[2]/2))]\n",
    "show2D(recon,\n",
    "       slice_list=slice_list,\n",
    "       num_cols=3)\n",
    "slice_list = [('vertical','centre'), ('horizontal_y',int(TV_reco.shape[1]/2)), ('horizontal_x',int(TV_reco.shape[2]/2))]\n",
    "show2D(TV_reco,\n",
    "       slice_list=slice_list,\n",
    "       num_cols=3)\n",
    "show2D(TV_reco-recon,\n",
    "       slice_list=slice_list,\n",
    "       num_cols=3,\n",
    "       cmap=\"RdBu\")"
   ]
  },
  {
   "cell_type": "markdown",
   "id": "3dd7ca31",
   "metadata": {},
   "source": [
    "Another common scenario with laminography samples, is that only a small region of interest (ROI) within the sample is fully scanned and parts of the sample outside the ROI will come in and out of view depending on the projection. We load a simulated dataset with this scenario with a larger cylinder"
   ]
  },
  {
   "cell_type": "code",
   "execution_count": null,
   "id": "e5f998b6",
   "metadata": {},
   "outputs": [],
   "source": [
    "data = NEXUSDataReader(\"../output_data/cylinder_roi_tilt_30.nxs\").read()\n",
    "show2D(data, slice_list=[('angle', 0), ('angle', 45), ('angle',90), ('angle', 135), ('angle',180)], num_cols=5)"
   ]
  },
  {
   "cell_type": "code",
   "execution_count": null,
   "id": "3aa71019",
   "metadata": {},
   "outputs": [],
   "source": [
    "# Reconstruct using FBP\n",
    "recon = FBP(image_geometry=None, acquisition_geometry=data.geometry)(data)\n",
    "\n",
    "# Plot the results\n",
    "slice_list = [('vertical','centre'), ('horizontal_y',int(recon.shape[2]/2)), ('horizontal_x',int(recon.shape[1]/2))]\n",
    "show2D(recon,\n",
    "       slice_list=slice_list,\n",
    "       num_cols=3)"
   ]
  },
  {
   "cell_type": "markdown",
   "id": "14d4fc66",
   "metadata": {},
   "source": [
    "The reconstruction contains a bright ring, this is common with ROI data because the projections contain information from outside the ROI. To solve this we need to define an acquisition geometry which is larger than the detector to account for the information outside the ROI."
   ]
  },
  {
   "cell_type": "code",
   "execution_count": null,
   "id": "586bc2fb",
   "metadata": {},
   "outputs": [],
   "source": [
    "# Reconstruct using FBP\n",
    "ig = data.geometry.get_ImageGeometry()\n",
    "padsize = 200 # approximately the size of the object outside the detector (in pixels)\n",
    "data_pad = Padder.edge(pad_width={'horizontal': padsize})(data)\n",
    "\n",
    "recon = FBP(image_geometry=ig, acquisition_geometry=data_pad.geometry)(data_pad)\n",
    "\n",
    "# Plot the results\n",
    "slice_list = [('vertical','centre'), ('horizontal_y',int(recon.shape[2]/2)), ('horizontal_x',int(recon.shape[1]/2))]\n",
    "show2D(recon,\n",
    "       slice_list=slice_list,\n",
    "       num_cols=3)"
   ]
  }
 ],
 "metadata": {
  "kernelspec": {
   "display_name": "laminography_alignment",
   "language": "python",
   "name": "python3"
  },
  "language_info": {
   "codemirror_mode": {
    "name": "ipython",
    "version": 3
   },
   "file_extension": ".py",
   "mimetype": "text/x-python",
   "name": "python",
   "nbconvert_exporter": "python",
   "pygments_lexer": "ipython3",
   "version": "3.12.12"
  }
 },
 "nbformat": 4,
 "nbformat_minor": 5
}
