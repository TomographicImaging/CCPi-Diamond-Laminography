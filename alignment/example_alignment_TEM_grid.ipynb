{
 "cells": [
  {
   "cell_type": "code",
   "execution_count": null,
   "id": "016fb31c",
   "metadata": {},
   "outputs": [],
   "source": [
    "from scripts.geometry_corrector import GeometryCorrector\n",
    "from scripts.shrink_volume import VolumeShrinker\n",
    "from cil.io.utilities import HDF5_utilities\n",
    "from cil.framework import AcquisitionData, AcquisitionGeometry\n",
    "from cil.processors import TransmissionAbsorptionConverter, Normaliser, Binner, Slicer\n",
    "from cil.plugins.astra.operators import ProjectionOperator\n",
    "from cil.io import TIFFWriter\n",
    "from cil.utilities.display import show2D, show_geometry\n",
    "from cil.plugins.astra.processors import FBP\n",
    "\n",
    "import numpy as np\n",
    "from scipy.spatial.transform import Rotation as R\n",
    "import matplotlib.pyplot as plt\n",
    "import os\n"
   ]
  },
  {
   "cell_type": "code",
   "execution_count": null,
   "id": "31d01f08",
   "metadata": {},
   "outputs": [],
   "source": [
    "file_path = '/mnt/share/ALC_laminography/folder/k11-67208_binned.nxs'\n",
    "cor = 0 # pix\n",
    "tilt = 35 # deg\n",
    "\n",
    "optimise_geometry = True\n",
    "cor_bounds = (-20, 20) # pixels\n",
    "tilt_bounds = (30, 40) # deg\n",
    "tilt_tol = 0.01 # deg\n",
    "cor_tol = 0.01 # pixels"
   ]
  },
  {
   "cell_type": "markdown",
   "id": "5b953fa0",
   "metadata": {},
   "source": [
    "TEM grid sample with some movement, grid search for robustness"
   ]
  },
  {
   "cell_type": "code",
   "execution_count": null,
   "id": "cf090bc3",
   "metadata": {},
   "outputs": [],
   "source": [
    "image_key = HDF5_utilities.read(filename=file_path, dset_path='entry/instrument/imaging/image_key')\n",
    "\n",
    "unique_keys, counts = np.unique(image_key, return_counts=True)\n",
    "for key, count in zip(unique_keys, counts):\n",
    "    key_type = {0: \"Tomography\", 1: \"Flat field\", 2: \"Dark field\"}.get(key, f\"Unknown ({key})\")\n",
    "    print(f\"  {key_type} images: {count}\")\n",
    "\n",
    "data = HDF5_utilities.read(filename=file_path, dset_path='/entry/imaging/data', source_sel=(image_key == 0,))\n",
    "flat = HDF5_utilities.read(filename=file_path, dset_path='/entry/imaging/data', source_sel=(image_key == 1,))\n",
    "dark = HDF5_utilities.read(filename=file_path, dset_path='/entry/imaging/data', source_sel=(image_key == 2,))\n",
    "\n",
    "angles = HDF5_utilities.read(filename=file_path, dset_path='/entry/imaging_sum/smaract_zrot_value_set')\n",
    "pixel_size_x = HDF5_utilities.read(filename=file_path, dset_path='/entry/tomo_entry/instrument/detector/x_pixel_size')\n",
    "pixel_size_y = HDF5_utilities.read(filename=file_path, dset_path='/entry/tomo_entry/instrument/detector/y_pixel_size')\n"
   ]
  },
  {
   "cell_type": "code",
   "execution_count": null,
   "id": "bf1a4d1e",
   "metadata": {},
   "outputs": [],
   "source": [
    "tilt_direction_vector=np.array([1, 0, 0])\n",
    "original_rotation_axis=np.array([0, 0, 1])\n",
    "\n",
    "rotation_matrix = R.from_rotvec(np.deg2rad(tilt) * tilt_direction_vector)\n",
    "tilted_rotation_axis = rotation_matrix.apply(original_rotation_axis)\n",
    "\n",
    "ag = AcquisitionGeometry.create_Parallel3D(rotation_axis_direction=tilted_rotation_axis)\n",
    "ag.set_angles(angles[image_key==0,])\n",
    "ag.set_panel([data.shape[2], data.shape[1]],\n",
    "             pixel_size = (pixel_size_x, pixel_size_y),\n",
    "             origin='top-left')\n",
    "\n",
    "ag.set_centre_of_rotation(offset=cor, distance_units='pixels')\n",
    "\n",
    "\n",
    "ag.config.system.rotation_axis.direction = tilted_rotation_axis\n",
    "\n",
    "show_geometry(ag)\n",
    "\n",
    "data = AcquisitionData(data, geometry=ag)"
   ]
  },
  {
   "cell_type": "code",
   "execution_count": null,
   "id": "926b899a",
   "metadata": {},
   "outputs": [],
   "source": [
    "data = Normaliser(np.mean(flat, axis=0), np.mean(dark, axis=0))(data)\n",
    "data = TransmissionAbsorptionConverter(min_intensity=1e-6)(data)\n",
    "show2D(data)"
   ]
  },
  {
   "cell_type": "code",
   "execution_count": null,
   "id": "af51263f",
   "metadata": {},
   "outputs": [],
   "source": [
    "data.reorder('astra')\n",
    "print(data.dimension_labels)"
   ]
  },
  {
   "cell_type": "code",
   "execution_count": null,
   "id": "0613b952",
   "metadata": {},
   "outputs": [],
   "source": [
    "ag = data.geometry\n",
    "ig = ag.get_ImageGeometry()\n",
    "\n",
    "fbp = FBP(ig, ag)\n",
    "recon = fbp(data)\n",
    "show2D(recon)"
   ]
  },
  {
   "cell_type": "code",
   "execution_count": null,
   "id": "c164f94d",
   "metadata": {},
   "outputs": [],
   "source": [
    "if optimise_geometry:\n",
    "    vs = VolumeShrinker()\n",
    "    ig = vs.run(data, auto=True)"
   ]
  },
  {
   "cell_type": "markdown",
   "id": "8b84ce11",
   "metadata": {},
   "source": [
    "`GeometryCorrector` starts with a coarse minimisation using an initial_binning in detector space, then does a fine minimisation at full resolution. The search bounds and tolerance are set at the top of the notebook"
   ]
  },
  {
   "cell_type": "code",
   "execution_count": null,
   "id": "adff7d3c",
   "metadata": {},
   "outputs": [],
   "source": [
    "if optimise_geometry:\n",
    "\n",
    "    if data.get_dimension_size('horizontal') > 1280:\n",
    "        final_binning = 2\n",
    "    else:\n",
    "        final_binning = None\n",
    "    \n",
    "    processor = GeometryCorrector(initial_parameters=(tilt, cor), parameter_bounds=(tilt_bounds, cor_bounds), parameter_tolerance=(tilt_tol, cor_tol),\n",
    "                                  final_binning=final_binning, reduced_volume=ig)\n",
    "\n",
    "    processor.set_input(data)\n",
    "    data_corrected = processor.get_output()\n",
    "\n",
    "    processor.plot_evaluations()"
   ]
  },
  {
   "cell_type": "markdown",
   "id": "32c7c206",
   "metadata": {},
   "source": [
    "Finally we do a full resolution reconstruction using the minimised parameters and look at some vertical slices throughout the volume"
   ]
  },
  {
   "cell_type": "code",
   "execution_count": null,
   "id": "07677760",
   "metadata": {},
   "outputs": [],
   "source": [
    "if optimise_geometry:\n",
    "    ig_full = data_corrected.geometry.get_ImageGeometry()\n",
    "    recon = FBP(ig_full, data_corrected.geometry)(data_corrected)\n",
    "    slice_list = [('vertical',  int(ig_full.voxel_num_z)*0.45), ('vertical', int(ig_full.voxel_num_z)*0.5), ('vertical', int(ig_full.voxel_num_z*0.55))]\n",
    "    show2D(recon, slice_list=slice_list, num_cols=3)"
   ]
  },
  {
   "cell_type": "markdown",
   "id": "2c5192c7",
   "metadata": {},
   "source": [
    "The reconstruction doesn't look perfect, especially for slices away from the central one. We should check if there is some movement in the sample during acquisition."
   ]
  },
  {
   "cell_type": "code",
   "execution_count": null,
   "id": "37d0c7c6",
   "metadata": {},
   "outputs": [],
   "source": [
    "show2D([data.array[:,0,:], data.array[:,-1,:], data.array[:,0,:]-data.array[:,-1,:]],\n",
    "       [data.geometry.angles[0], data.geometry.angles[-1], \"difference\"],\n",
    "       fix_range=[None, None, (-0.25, 0.25)],\n",
    "       cmap=[\"gray\",\"gray\",\"RdBu_r\"],\n",
    "       num_cols=3)"
   ]
  },
  {
   "cell_type": "markdown",
   "id": "687001ff",
   "metadata": {},
   "source": [
    "As there is movement, we try instead a brute force grid search"
   ]
  },
  {
   "cell_type": "code",
   "execution_count": null,
   "id": "1f99d5fb",
   "metadata": {},
   "outputs": [],
   "source": [
    "binning  = 3\n",
    "data_binned = Binner(roi={'horizontal':(None, None,binning), 'vertical':(None, None,binning), 'angle':(None, None, 4)})(data)\n",
    "ag_binned = data_binned.geometry\n",
    "ig_binned = Binner(roi={'horizontal_x':(None, None,binning), 'horizontal_y':(None, None,binning), 'vertical':(None, None,binning)})(ig)"
   ]
  },
  {
   "cell_type": "code",
   "execution_count": null,
   "id": "2fb9a879",
   "metadata": {},
   "outputs": [],
   "source": [
    "cors = np.arange(0, 20, 1)\n",
    "tilts = np.arange(30, 40, 1)\n",
    "\n",
    "ag_binned = data_binned.geometry\n",
    "\n",
    "target = max(np.ceil(data_binned.get_dimension_size('angle') / 10), 36)\n",
    "divider = np.floor(data_binned.get_dimension_size('angle') / target)\n",
    "y_ref = Slicer(roi={'angle':(None, None, divider)})(data_binned)\n",
    "ag_ref = Slicer(roi={'angle':(None, None, divider)})(ag_binned)\n",
    "\n",
    "losses = np.empty([len(tilts),len(cors)])\n",
    "\n",
    "processor = GeometryCorrector(initial_parameters=(tilt, cor))\n",
    "\n",
    "for t, tilt_deg in enumerate(tilts):\n",
    "    for c, cor in enumerate(cors):\n",
    "\n",
    "        cor_pix = cor /binning\n",
    "        tilt_rad = np.deg2rad(tilt_deg)\n",
    "        rotation_matrix = R.from_rotvec(tilt_rad * tilt_direction_vector)\n",
    "        tilted_rotation_axis = rotation_matrix.apply(original_rotation_axis)\n",
    "\n",
    "        ag_binned.set_centre_of_rotation(offset=cor_pix, distance_units='pixels')\n",
    "        ag_binned.config.system.rotation_axis.direction = tilted_rotation_axis\n",
    "\n",
    "        recon = FBP(ig_binned, ag_binned)(data_binned)\n",
    "\n",
    "        ag_ref = processor.update_geometry(ag_ref, tilt_deg, cor_pix)\n",
    "        A = ProjectionOperator(ig_binned, ag_ref)\n",
    "        \n",
    "        yhat = A.direct(recon)\n",
    "        r = yhat - y_ref\n",
    "        \n",
    "        losses[t, c] = processor.loss_from_residual(r)\n",
    "\n",
    "        print(f\"{t * len(cors) + c + 1} of {len(tilts)*len(cors)}\" )\n"
   ]
  },
  {
   "cell_type": "markdown",
   "id": "d4560b28",
   "metadata": {},
   "source": [
    "Plotting the parameter space we notice it has a strange shape, likely caused by the sample movement."
   ]
  },
  {
   "cell_type": "code",
   "execution_count": null,
   "id": "a7a273a3",
   "metadata": {},
   "outputs": [],
   "source": [
    "plt.imshow(losses, extent=(cors[0], cors[-1], tilts[0], tilts[-1]), aspect=1, origin='lower')\n",
    "plt.xlabel('Centre of rotation (pixels)')\n",
    "plt.ylabel('Tilt (degrees)')"
   ]
  },
  {
   "cell_type": "markdown",
   "id": "215fceea",
   "metadata": {},
   "source": [
    "We select a minimum from the plot."
   ]
  },
  {
   "cell_type": "code",
   "execution_count": null,
   "id": "4b1d6a93",
   "metadata": {},
   "outputs": [],
   "source": [
    "t_idx, c_idx = np.unravel_index(np.argmin(losses), losses.shape)\n",
    "\n",
    "best_tilt = tilts[t_idx]\n",
    "best_cor = cors[c_idx]\n",
    "\n",
    "print(f\"Minimum tilt = {best_tilt}, cor = {best_cor}\")"
   ]
  },
  {
   "cell_type": "markdown",
   "id": "62fbe024",
   "metadata": {},
   "source": [
    "Try reconstructing this at full resolution"
   ]
  },
  {
   "cell_type": "code",
   "execution_count": null,
   "id": "499dbc8c",
   "metadata": {},
   "outputs": [],
   "source": [
    "ag = processor.update_geometry(ag, best_tilt, best_cor)\n",
    "\n",
    "recon = FBP(ig_full, ag)(data)\n",
    "show2D(recon, slice_list=slice_list, num_cols=3)"
   ]
  }
 ],
 "metadata": {
  "kernelspec": {
   "display_name": "laminography_alignment",
   "language": "python",
   "name": "python3"
  },
  "language_info": {
   "codemirror_mode": {
    "name": "ipython",
    "version": 3
   },
   "file_extension": ".py",
   "mimetype": "text/x-python",
   "name": "python",
   "nbconvert_exporter": "python",
   "pygments_lexer": "ipython3",
   "version": "3.12.12"
  }
 },
 "nbformat": 4,
 "nbformat_minor": 5
}
