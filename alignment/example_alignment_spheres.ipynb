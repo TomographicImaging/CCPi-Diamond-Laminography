{
 "cells": [
  {
   "cell_type": "code",
   "execution_count": null,
   "id": "319e9375",
   "metadata": {},
   "outputs": [],
   "source": [
    "from scripts.geometry_corrector import GeometryCorrector\n",
    "from scripts.shrink_volume import VolumeShrinker\n",
    "from cil.io.utilities import HDF5_utilities\n",
    "from cil.framework import AcquisitionData, AcquisitionGeometry\n",
    "from cil.processors import TransmissionAbsorptionConverter, Normaliser\n",
    "from cil.utilities.display import show2D, show_geometry\n",
    "from cil.plugins.astra.processors import FBP\n",
    "from cil.io import TIFFWriter\n",
    "\n",
    "import numpy as np\n",
    "from scipy.spatial.transform import Rotation as R\n",
    "import os"
   ]
  },
  {
   "cell_type": "code",
   "execution_count": null,
   "id": "937ca23c",
   "metadata": {},
   "outputs": [],
   "source": [
    "file_path = \"/mnt/share/ALC_laminography/folder/k11-54286.nxs\"\n",
    "detector_pixel_size=0.54 # um - get this from the file in future\n",
    "cor = 0 # pix\n",
    "tilt = 35 # deg\n",
    "\n",
    "optimise_geometry = True\n",
    "cor_bounds = (-20, 20) # pixels\n",
    "tilt_bounds = (30, 40) # deg\n",
    "tilt_tol = 0.01 # deg\n",
    "cor_tol = 0.01 # pixels"
   ]
  },
  {
   "cell_type": "code",
   "execution_count": null,
   "id": "5e6276c4",
   "metadata": {},
   "outputs": [],
   "source": [
    "image_key = HDF5_utilities.read(file_path, '/entry/instrument/EtherCAT/image_key')\n",
    "\n",
    "unique_keys, counts = np.unique(image_key, return_counts=True)\n",
    "for key, count in zip(unique_keys, counts):\n",
    "    key_type = {0: \"Tomography\", 1: \"Flat field\", 2: \"Dark field\"}.get(key, f\"Unknown ({key})\")\n",
    "    print(f\"  {key_type} images: {count}\")\n",
    "\n",
    "data = HDF5_utilities.read(filename=file_path, dset_path='/entry/imaging/data', source_sel=(image_key == 0,))\n",
    "flat = HDF5_utilities.read(filename=file_path, dset_path='/entry/imaging/data', source_sel=(image_key == 1,))\n",
    "dark = HDF5_utilities.read(filename=file_path, dset_path='/entry/imaging/data', source_sel=(image_key == 2,))\n",
    "\n",
    "angles = HDF5_utilities.read(file_path, '/entry/imaging_sum/smaract_zrot')\n",
    "pixel_size_x = detector_pixel_size\n",
    "pixel_size_y = detector_pixel_size\n"
   ]
  },
  {
   "cell_type": "code",
   "execution_count": null,
   "id": "bc9e2b34",
   "metadata": {},
   "outputs": [],
   "source": [
    "tilt_direction_vector=np.array([1, 0, 0])\n",
    "original_rotation_axis=np.array([0, 0, 1])\n",
    "\n",
    "rotation_matrix = R.from_rotvec(np.deg2rad(tilt) * tilt_direction_vector)\n",
    "tilted_rotation_axis = rotation_matrix.apply(original_rotation_axis)\n",
    "\n",
    "ag = AcquisitionGeometry.create_Parallel3D(rotation_axis_direction=tilted_rotation_axis)\n",
    "ag.set_angles(angles[image_key==0,])\n",
    "ag.set_panel([data.shape[2], data.shape[1]],\n",
    "             pixel_size = (pixel_size_x, pixel_size_y),\n",
    "             origin='top-left')\n",
    "\n",
    "ag.set_centre_of_rotation(offset=cor, distance_units='pixels')\n",
    "\n",
    "\n",
    "ag.config.system.rotation_axis.direction = tilted_rotation_axis\n",
    "\n",
    "show_geometry(ag)\n",
    "\n",
    "data = AcquisitionData(data, geometry=ag)"
   ]
  },
  {
   "cell_type": "code",
   "execution_count": null,
   "id": "94adff84",
   "metadata": {},
   "outputs": [],
   "source": [
    "data = Normaliser(np.mean(flat, axis=0), np.mean(dark, axis=0))(data)\n",
    "data = TransmissionAbsorptionConverter(min_intensity=1e-6)(data)\n",
    "show2D(data)"
   ]
  },
  {
   "cell_type": "code",
   "execution_count": null,
   "id": "341cbe72",
   "metadata": {},
   "outputs": [],
   "source": [
    "data.reorder('astra')\n",
    "print(data.dimension_labels)"
   ]
  },
  {
   "cell_type": "code",
   "execution_count": null,
   "id": "24993ca1",
   "metadata": {},
   "outputs": [],
   "source": [
    "ag = data.geometry\n",
    "ig = ag.get_ImageGeometry()\n",
    "\n",
    "fbp = FBP(ig, ag)\n",
    "recon = fbp(data)\n",
    "show2D(recon)"
   ]
  },
  {
   "cell_type": "code",
   "execution_count": null,
   "id": "1cb55a16",
   "metadata": {},
   "outputs": [],
   "source": [
    "if optimise_geometry:\n",
    "    vs = VolumeShrinker()\n",
    "    ig = vs.run(data, auto=True)"
   ]
  },
  {
   "cell_type": "code",
   "execution_count": null,
   "id": "7ef9e1f7",
   "metadata": {},
   "outputs": [],
   "source": [
    "if optimise_geometry:\n",
    "\n",
    "    if data.get_dimension_size('horizontal') > 1280:\n",
    "        final_binning = 2\n",
    "    else:\n",
    "        final_binning = None\n",
    "    \n",
    "    processor = GeometryCorrector(initial_parameters=(tilt, cor), parameter_bounds=(tilt_bounds, cor_bounds), parameter_tolerance=(tilt_tol, cor_tol),\n",
    "                                  final_binning=final_binning, reduced_volume=ig)\n",
    "\n",
    "    processor.set_input(data)\n",
    "    data_corrected = processor.get_output()\n",
    "\n",
    "    processor.plot_evaluations()"
   ]
  },
  {
   "cell_type": "code",
   "execution_count": null,
   "id": "bd9df82a",
   "metadata": {},
   "outputs": [],
   "source": [
    "if optimise_geometry:\n",
    "    ig_full = data_corrected.geometry.get_ImageGeometry()\n",
    "    recon = FBP(ig_full, data_corrected.geometry)(data_corrected)\n",
    "    slice_list = [('vertical',  int(ig_full.voxel_num_z)*0.45), ('vertical', int(ig_full.voxel_num_z)*0.5), ('vertical', int(ig_full.voxel_num_z*0.55))]\n",
    "    show2D(recon, slice_list=slice_list, num_cols=3)"
   ]
  },
  {
   "cell_type": "code",
   "execution_count": null,
   "id": "bb6bbc69",
   "metadata": {},
   "outputs": [],
   "source": [
    "from pathlib import Path\n",
    "fp = Path(file_path)\n",
    "recon_dir = fp.with_name(fp.stem + '_recon')\n",
    "recon_dir.mkdir(parents=True, exist_ok=True)\n",
    "\n",
    "TIFFWriter(recon, os.path.join(recon_dir, fp.stem + '_recon')).write()"
   ]
  }
 ],
 "metadata": {
  "kernelspec": {
   "display_name": "laminography_alignment",
   "language": "python",
   "name": "python3"
  },
  "language_info": {
   "codemirror_mode": {
    "name": "ipython",
    "version": 3
   },
   "file_extension": ".py",
   "mimetype": "text/x-python",
   "name": "python",
   "nbconvert_exporter": "python",
   "pygments_lexer": "ipython3",
   "version": "3.12.12"
  }
 },
 "nbformat": 4,
 "nbformat_minor": 5
}
