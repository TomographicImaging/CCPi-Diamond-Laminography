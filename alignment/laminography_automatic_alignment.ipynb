{
 "cells": [
  {
   "cell_type": "markdown",
   "id": "73bde2cc",
   "metadata": {},
   "source": [
    "# Laminography automatic alignment\n",
    "This notebook demonstrates tools to automatically align the tilt and center of rotation offset parameters for data collected in a laminography geometry, to optimise the best reconstructed volume.\n",
    "\n",
    "Laminography is an imaging techique, similar to tomography, where projections are collected at multiple positions around a sample then used to reconstruct a 3D volume. Laminography is used on flat samples, where the typical tomography setup results in artefacts caused by un-even absorption between projections. In laminography, the rotation axis is tilted relative to the detector plane to make the absorption more equal.\n",
    "\n",
    "Here we input some parameters that the script will use:\n"
   ]
  },
  {
   "cell_type": "code",
   "execution_count": null,
   "id": "5ba70fb4",
   "metadata": {},
   "outputs": [],
   "source": [
    "file_path = '/mnt/share/ALC_laminography/folder/k11-67208_binned.nxs'\n",
    "cor = 0 # pix\n",
    "tilt = 35 # deg\n",
    "\n",
    "optimise_geometry = True\n",
    "cor_bounds = (-20, 20) # pixels\n",
    "tilt_bounds = (30, 40) # deg\n",
    "tilt_tol = 0.01 # deg\n",
    "cor_tol = 0.01 # pixels"
   ]
  },
  {
   "cell_type": "code",
   "execution_count": null,
   "id": "8ff9ec76",
   "metadata": {},
   "outputs": [],
   "source": [
    "from scripts.geometry_corrector import GeometryCorrector\n",
    "from scripts.shrink_volume import VolumeShrinker\n",
    "from cil.io.utilities import HDF5_utilities\n",
    "from cil.framework import AcquisitionData, AcquisitionGeometry\n",
    "from cil.processors import TransmissionAbsorptionConverter, Normaliser\n",
    "from cil.utilities.display import show2D, show_geometry\n",
    "from cil.utilities.jupyter import islicer\n",
    "from cil.plugins.astra.processors import FBP\n",
    "from cil.io import TIFFWriter\n",
    "\n",
    "import numpy as np\n",
    "from scipy.spatial.transform import Rotation as R\n",
    "import os"
   ]
  },
  {
   "cell_type": "markdown",
   "id": "296eb9e8",
   "metadata": {},
   "source": [
    "First we load a DIAD dataset"
   ]
  },
  {
   "cell_type": "code",
   "execution_count": null,
   "id": "cae3f28e",
   "metadata": {},
   "outputs": [],
   "source": [
    "image_key = HDF5_utilities.read(filename=file_path, dset_path='entry/instrument/imaging/image_key')\n",
    "\n",
    "unique_keys, counts = np.unique(image_key, return_counts=True)\n",
    "for key, count in zip(unique_keys, counts):\n",
    "    key_type = {0: \"Tomography\", 1: \"Flat field\", 2: \"Dark field\"}.get(key, f\"Unknown ({key})\")\n",
    "    print(f\"  {key_type} images: {count}\")\n",
    "\n",
    "data = HDF5_utilities.read(filename=file_path, dset_path='/entry/imaging/data', source_sel=(image_key == 0,))\n",
    "flat = HDF5_utilities.read(filename=file_path, dset_path='/entry/imaging/data', source_sel=(image_key == 1,))\n",
    "dark = HDF5_utilities.read(filename=file_path, dset_path='/entry/imaging/data', source_sel=(image_key == 2,))\n",
    "\n",
    "angles = HDF5_utilities.read(filename=file_path, dset_path='/entry/imaging_sum/smaract_zrot_value_set')\n",
    "pixel_size_x = HDF5_utilities.read(filename=file_path, dset_path='/entry/tomo_entry/instrument/detector/x_pixel_size')\n",
    "pixel_size_y = HDF5_utilities.read(filename=file_path, dset_path='/entry/tomo_entry/instrument/detector/y_pixel_size')\n"
   ]
  },
  {
   "cell_type": "markdown",
   "id": "da17f1d1",
   "metadata": {},
   "source": [
    "Next we describe the experimental geometry. We setup the detector and apply the tilted rotation axis and centre of rotation offset."
   ]
  },
  {
   "cell_type": "code",
   "execution_count": null,
   "id": "7654a6c3",
   "metadata": {},
   "outputs": [],
   "source": [
    "tilt_direction_vector=np.array([1, 0, 0])\n",
    "original_rotation_axis=np.array([0, 0, 1])\n",
    "\n",
    "rotation_matrix = R.from_rotvec(np.deg2rad(tilt) * tilt_direction_vector)\n",
    "tilted_rotation_axis = rotation_matrix.apply(original_rotation_axis)\n",
    "\n",
    "ag = AcquisitionGeometry.create_Parallel3D(rotation_axis_direction=tilted_rotation_axis)\n",
    "ag.set_angles(angles[image_key==0,])\n",
    "ag.set_panel([data.shape[2], data.shape[1]],\n",
    "             pixel_size = (pixel_size_x, pixel_size_y),\n",
    "             origin='top-left')\n",
    "\n",
    "ag.set_centre_of_rotation(offset=cor, distance_units='pixels')\n",
    "\n",
    "\n",
    "ag.config.system.rotation_axis.direction = tilted_rotation_axis\n",
    "\n",
    "show_geometry(ag)\n",
    "\n",
    "data = AcquisitionData(data, geometry=ag)"
   ]
  },
  {
   "cell_type": "markdown",
   "id": "9125e9f6",
   "metadata": {},
   "source": [
    "Next we apply a flat and dark field correction and apply the Beer-Lambert law"
   ]
  },
  {
   "cell_type": "code",
   "execution_count": null,
   "id": "7232770a",
   "metadata": {},
   "outputs": [],
   "source": [
    "data = Normaliser(np.mean(flat, axis=0), np.mean(dark, axis=0))(data)\n",
    "data = TransmissionAbsorptionConverter(min_intensity=1e-6)(data)\n",
    "show2D(data)"
   ]
  },
  {
   "cell_type": "markdown",
   "id": "ddf984d4",
   "metadata": {},
   "source": [
    "We reorder the data in the order required by astra"
   ]
  },
  {
   "cell_type": "code",
   "execution_count": null,
   "id": "de0c7192",
   "metadata": {},
   "outputs": [],
   "source": [
    "data.reorder('astra')\n",
    "print(data.dimension_labels)"
   ]
  },
  {
   "cell_type": "markdown",
   "id": "eb5c891b",
   "metadata": {},
   "source": [
    "Now we try reconstructing the data with our initial geometry guess"
   ]
  },
  {
   "cell_type": "code",
   "execution_count": null,
   "id": "9e459e98",
   "metadata": {},
   "outputs": [],
   "source": [
    "ag = data.geometry\n",
    "ig = ag.get_ImageGeometry()\n",
    "\n",
    "fbp = FBP(ig, ag)\n",
    "recon = fbp(data)\n",
    "show2D(recon)"
   ]
  },
  {
   "cell_type": "markdown",
   "id": "7e066988",
   "metadata": {},
   "source": [
    "If we want to optimise the geometry, we use the `GeometryCorrector` tool to get a more accurate estimate of the tilt and centre of rotation parameters from the data itself. This tool uses a projection matching method to guess the geometry and minimise the difference between a reprojected reconstruction and the original projections. \n",
    "\n",
    "This method can be slow so we first shrink the reconstruction volume as much as possible using the `VolumeShrinker` tool. Here we set the method to auto, however we can over-ride these limits with our own manual_limits, which we can adjust and check on the reconstruction volume."
   ]
  },
  {
   "cell_type": "code",
   "execution_count": null,
   "id": "87ea339b",
   "metadata": {},
   "outputs": [],
   "source": [
    "if optimise_geometry:\n",
    "    vs = VolumeShrinker()\n",
    "    ig = vs.run(data, auto=True)"
   ]
  },
  {
   "cell_type": "markdown",
   "id": "5591dc68",
   "metadata": {},
   "source": [
    "`GeometryCorrector` starts with a coarse minimisation using an initial_binning in detector space, then does a fine minimisation at full resolution. The search bounds and tolerance are set at the top of the notebook"
   ]
  },
  {
   "cell_type": "code",
   "execution_count": null,
   "id": "95e333b2",
   "metadata": {},
   "outputs": [],
   "source": [
    "if optimise_geometry:\n",
    "\n",
    "    if data.get_dimension_size('horizontal') > 1280:\n",
    "        final_binning = 2\n",
    "    else:\n",
    "        final_binning = None\n",
    "    \n",
    "    processor = GeometryCorrector(initial_parameters=(tilt, cor), parameter_bounds=(tilt_bounds, cor_bounds), parameter_tolerance=(tilt_tol, cor_tol),\n",
    "                                  final_binning=final_binning, reduced_volume=ig)\n",
    "\n",
    "    processor.set_input(data)\n",
    "    data_corrected = processor.get_output()\n",
    "\n",
    "    processor.plot_evaluations()"
   ]
  },
  {
   "cell_type": "markdown",
   "id": "c8e06b5c",
   "metadata": {},
   "source": [
    "Finally we do a full resolution reconstruction using the minimised parameters and look at some vertical slices throughout the volume"
   ]
  },
  {
   "cell_type": "code",
   "execution_count": null,
   "id": "a7bbac2f",
   "metadata": {},
   "outputs": [],
   "source": [
    "if optimise_geometry:\n",
    "    ig_full = data_corrected.geometry.get_ImageGeometry()\n",
    "    recon = FBP(ig_full, data_corrected.geometry)(data_corrected)\n",
    "    slice_list = [('vertical',  int(ig_full.voxel_num_z)*0.45), ('vertical', int(ig_full.voxel_num_z)*0.5), ('vertical', int(ig_full.voxel_num_z*0.55))]\n",
    "    show2D(recon, slice_list=slice_list, num_cols=3)"
   ]
  },
  {
   "cell_type": "markdown",
   "id": "37ff0855",
   "metadata": {},
   "source": [
    "Save the reconstruction as tiff files"
   ]
  },
  {
   "cell_type": "code",
   "execution_count": null,
   "id": "bcd0384c",
   "metadata": {},
   "outputs": [],
   "source": [
    "from pathlib import Path\n",
    "fp = Path(file_path)\n",
    "recon_dir = fp.with_name(fp.stem + '_recon')\n",
    "recon_dir.mkdir(parents=True, exist_ok=True)\n",
    "\n",
    "TIFFWriter(recon, os.path.join(recon_dir, fp.stem + '_recon')).write()"
   ]
  }
 ],
 "metadata": {
  "kernelspec": {
   "display_name": "laminography_alignment",
   "language": "python",
   "name": "python3"
  },
  "language_info": {
   "codemirror_mode": {
    "name": "ipython",
    "version": 3
   },
   "file_extension": ".py",
   "mimetype": "text/x-python",
   "name": "python",
   "nbconvert_exporter": "python",
   "pygments_lexer": "ipython3",
   "version": "3.12.12"
  }
 },
 "nbformat": 4,
 "nbformat_minor": 5
}
