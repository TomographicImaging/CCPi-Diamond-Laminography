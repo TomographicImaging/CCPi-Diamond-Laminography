{
 "cells": [
  {
   "cell_type": "code",
   "execution_count": null,
   "metadata": {},
   "outputs": [],
   "source": [
    "from cil.io.utilities import HDF5_utilities\n",
    "from cil.utilities.display import show2D, show_geometry\n",
    "from cil.framework import AcquisitionData, AcquisitionGeometry, DataContainer\n",
    "from cil.utilities.jupyter import islicer\n",
    "from cil.plugins.astra.processors import FBP\n",
    "from cil.processors import Normaliser, TransmissionAbsorptionConverter\n",
    "\n",
    "import matplotlib.pyplot as plt\n",
    "import h5py\n",
    "import numpy as np\n",
    "import os\n",
    "import scipy"
   ]
  },
  {
   "cell_type": "code",
   "execution_count": null,
   "metadata": {},
   "outputs": [],
   "source": [
    "filepath = '/mnt/share/ALC_laminography/folder/combined_data/k11-54013.nxs'"
   ]
  },
  {
   "cell_type": "code",
   "execution_count": null,
   "metadata": {},
   "outputs": [],
   "source": [
    "HDF5_utilities.print_metadata(filepath)"
   ]
  },
  {
   "cell_type": "code",
   "execution_count": null,
   "metadata": {},
   "outputs": [],
   "source": [
    "key = HDF5_utilities.read(filename=filepath, dset_path='entry/instrument/EtherCAT/image_key')"
   ]
  },
  {
   "cell_type": "code",
   "execution_count": null,
   "metadata": {},
   "outputs": [],
   "source": [
    "angles = HDF5_utilities.read(filename=filepath, dset_path='/entry/imaging_sum/smaract_zrot')"
   ]
  },
  {
   "cell_type": "code",
   "execution_count": null,
   "metadata": {},
   "outputs": [],
   "source": [
    "data = HDF5_utilities.read(filename=filepath, dset_path='/entry/imaging/data', source_sel=(key == 0,))\n",
    "flat = HDF5_utilities.read(filename=filepath, dset_path='/entry/imaging/data', source_sel=(key == 1,))\n",
    "dark = HDF5_utilities.read(filename=filepath, dset_path='/entry/imaging/data', source_sel=(key == 2,))"
   ]
  },
  {
   "cell_type": "code",
   "execution_count": null,
   "metadata": {},
   "outputs": [],
   "source": [
    "ag = AcquisitionGeometry.create_Parallel3D()\n",
    "ag.set_angles(angles[key==0,])\n",
    "ag.set_panel([data.shape[2], data.shape[1]])\n",
    "\n",
    "data = AcquisitionData(data, geometry=ag)"
   ]
  },
  {
   "cell_type": "code",
   "execution_count": null,
   "metadata": {},
   "outputs": [],
   "source": [
    "processor = Normaliser(flat_field=flat.mean(axis=0), dark_field=dark.mean(axis=0))\n",
    "processor.set_input(data)\n",
    "data_norm = processor.get_output()"
   ]
  },
  {
   "cell_type": "code",
   "execution_count": null,
   "metadata": {},
   "outputs": [],
   "source": [
    "processor = TransmissionAbsorptionConverter()\n",
    "processor.set_input(data_norm)\n",
    "processor.get_output(out=data_norm)\n",
    "show2D([data, data_norm])"
   ]
  },
  {
   "cell_type": "code",
   "execution_count": null,
   "metadata": {},
   "outputs": [],
   "source": [
    "islicer(data_norm)"
   ]
  },
  {
   "cell_type": "code",
   "execution_count": null,
   "metadata": {},
   "outputs": [],
   "source": [
    "data_norm.reorder('astra')\n",
    "ag = data_norm.geometry\n",
    "ig = ag.get_ImageGeometry()"
   ]
  },
  {
   "cell_type": "code",
   "execution_count": null,
   "metadata": {},
   "outputs": [],
   "source": [
    "data_norm.reorder('cil')"
   ]
  },
  {
   "cell_type": "code",
   "execution_count": null,
   "metadata": {},
   "outputs": [],
   "source": [
    "data_filtered = data_norm.copy()\n",
    "data_filtered.fill(scipy.ndimage.sobel(data_norm.as_array(), axis=0, mode='reflect', cval=0.0))"
   ]
  },
  {
   "cell_type": "code",
   "execution_count": null,
   "metadata": {},
   "outputs": [],
   "source": [
    "islicer(data_filtered)"
   ]
  },
  {
   "cell_type": "code",
   "execution_count": null,
   "metadata": {},
   "outputs": [],
   "source": [
    "data_filtered.reorder('astra')\n",
    "data_norm.reorder('astra')"
   ]
  },
  {
   "cell_type": "code",
   "execution_count": null,
   "metadata": {},
   "outputs": [],
   "source": [
    "offset = -3.3\n",
    "\n",
    "recon_filtered_list = []\n",
    "recon_list = []\n",
    "tilts = np.arange(33.0, 34.5, 0.1)\n",
    "\n",
    "evaluation = np.zeros(len(tilts))\n",
    "evaluation_filtered = np.zeros(len(tilts))\n",
    "for i, tilt in enumerate(tilts):\n",
    "    ag_tilt = ag.copy()\n",
    "    ag_tilt.set_centre_of_rotation(offset=offset)\n",
    "    ag_tilt.config.system.rotation_axis.direction = [0,-np.sin(tilt), np.cos(tilt)]\n",
    "    ig_tilt = ag_tilt.get_ImageGeometry()\n",
    "    ig_tilt.voxel_num_z = 1\n",
    "\n",
    "    fbp = FBP(ig_tilt, ag_tilt)\n",
    "    fbp.set_input(data_filtered)\n",
    "    recon_filtered = fbp.get_output()\n",
    "    recon_filtered.apply_circular_mask(0.9)\n",
    "    recon_filtered_list.append(recon_filtered.array)\n",
    "    evaluation_filtered[i] = (recon_filtered*recon_filtered).sum()\n",
    "\n",
    "    fbp.set_input(data_norm)\n",
    "    recon = fbp.get_output()\n",
    "    recon.apply_circular_mask(0.9)\n",
    "    recon_list.append(recon.array)\n",
    "\n",
    "    evaluation[i] = (recon*recon).sum()\n",
    "\n",
    "DC_filtered = DataContainer(np.stack(recon_filtered_list, axis=0), dimension_labels=('Tilt',) + recon_filtered.geometry.dimension_labels)\n",
    "DC_recon = DataContainer(np.stack(recon_list, axis=0), dimension_labels=('Tilt',) + recon.geometry.dimension_labels)"
   ]
  },
  {
   "cell_type": "code",
   "execution_count": null,
   "metadata": {},
   "outputs": [],
   "source": [
    "[fig, axs] = plt.subplots(2,2, figsize=(15,10))\n",
    "ax = axs[0,0]\n",
    "ax.plot(tilts, evaluation)\n",
    "ax.grid()\n",
    "ax.set_xlabel('Tilt')\n",
    "ax.set_ylabel('Reconstruction sum of squares')\n",
    "\n",
    "ax = axs[0,1]\n",
    "ax.plot(tilts, evaluation_filtered)\n",
    "ax.grid()\n",
    "ax.set_xlabel('Tilt')\n",
    "ax.set_ylabel('Filtered reconstruction sum of squares')\n",
    "\n",
    "ax = axs[1,0]\n",
    "y = evaluation_filtered/evaluation\n",
    "ax.plot(tilts, y)\n",
    "ax.plot(tilts[y.argmin()], y[y.argmin()], 'rx')\n",
    "ax.grid()\n",
    "ax.set_xlabel('Tilt')\n",
    "ax.set_ylabel('Filtered/Unfiltered')\n",
    "\n",
    "ax = axs[1,1]\n",
    "y = (evaluation_filtered/evaluation_filtered.max())/(evaluation/evaluation.max())\n",
    "ax.plot(tilts, y)\n",
    "ax.plot(tilts[y.argmin()], y[y.argmin()], 'rx')\n",
    "ax.grid()\n",
    "ax.set_xlabel('Tilt')\n",
    "ax.set_ylabel('Filtered/Unfiltered normalised')"
   ]
  },
  {
   "cell_type": "code",
   "execution_count": null,
   "metadata": {},
   "outputs": [],
   "source": [
    "islicer(DC_recon, title=tuple(['Centre of rotation offset: ' + str(t)  + ', index: ' for t in tilts]))"
   ]
  },
  {
   "cell_type": "code",
   "execution_count": null,
   "metadata": {},
   "outputs": [],
   "source": [
    "islicer(DC_filtered, title=tuple(['Centre of rotation offset: ' + str(t)  + ', index: ' for t in tilts]))"
   ]
  },
  {
   "cell_type": "code",
   "execution_count": null,
   "metadata": {},
   "outputs": [],
   "source": [
    "tilt = 34.0\n",
    "\n",
    "recon_filtered_list_rot = []\n",
    "recon_list_rot = []\n",
    "offsets = [-4, -3.5, -3.4, -3.3, -3.2, -3.1, -3.0, -2.9, -2.8, -2.7, -2.6, -2.5, -2.4, -2.3, -2.2, -2.1, -2, -1.5]\n",
    "evaluation_filtered_rot = np.zeros(len(offsets))\n",
    "evaluation_rot = np.zeros(len(offsets))\n",
    "for i, offset in enumerate(offsets):\n",
    "    ag_tilt = ag.copy()\n",
    "    ag_tilt.set_centre_of_rotation(offset=offset)\n",
    "    ag_tilt.config.system.rotation_axis.direction = [0,-np.sin(tilt), np.cos(tilt)]\n",
    "    ig_tilt = ag_tilt.get_ImageGeometry()\n",
    "    ig_tilt.voxel_num_z = 1\n",
    "\n",
    "    fbp = FBP(ig_tilt, ag_tilt)\n",
    "    fbp.set_input(data_filtered)\n",
    "    recon_filtered = fbp.get_output()\n",
    "    recon_filtered.apply_circular_mask(0.9)\n",
    "    recon_filtered_list_rot.append(recon_filtered.array)\n",
    "    evaluation_filtered_rot[i] = (recon_filtered*recon_filtered).sum()\n",
    "\n",
    "    fbp.set_input(data_norm)\n",
    "    recon = fbp.get_output()\n",
    "    recon.apply_circular_mask(0.9)\n",
    "    recon_list_rot.append(recon.array)\n",
    "    evaluation_rot[i] = (recon*recon).sum()\n",
    "\n",
    "DC_filtered_rot = DataContainer(np.stack(recon_filtered_list_rot, axis=0), dimension_labels=('Offset',) + recon_filtered.geometry.dimension_labels)\n",
    "DC_recon_rot = DataContainer(np.stack(recon_list_rot, axis=0), dimension_labels=('Offset',) + recon.geometry.dimension_labels)"
   ]
  },
  {
   "cell_type": "code",
   "execution_count": null,
   "metadata": {},
   "outputs": [],
   "source": [
    "# plt.plot(offsets, evaluation_rot)\n",
    "# plt.plot(offsets[evaluation_rot.argmax()], evaluation_rot[evaluation_rot.argmax()], 'rx')\n",
    "# plt.grid()\n",
    "\n",
    "# plt.figure()\n",
    "plt.plot(offsets, evaluation_filtered_rot)\n",
    "plt.plot(offsets[evaluation_filtered_rot.argmax()], evaluation_filtered_rot[evaluation_filtered_rot.argmax()], 'rx')\n",
    "plt.grid()"
   ]
  },
  {
   "cell_type": "code",
   "execution_count": null,
   "metadata": {},
   "outputs": [],
   "source": [
    "offsets[evaluation_filtered_rot.argmax()]"
   ]
  },
  {
   "cell_type": "code",
   "execution_count": null,
   "metadata": {},
   "outputs": [],
   "source": [
    "islicer(DC_recon_rot, title=tuple(['Centre of rotation offset: ' + str(t)  + ', index: ' for t in offsets]))"
   ]
  },
  {
   "cell_type": "code",
   "execution_count": null,
   "metadata": {},
   "outputs": [],
   "source": [
    "islicer(DC_filtered_rot, title=tuple(['Centre of rotation offset: ' + str(t)  + ', index: ' for t in offsets]))"
   ]
  },
  {
   "cell_type": "code",
   "execution_count": null,
   "metadata": {},
   "outputs": [],
   "source": [
    "offset = -3.3\n",
    "tilt = 34.0\n",
    "\n",
    "ag_tilt = ag.copy()\n",
    "ag_tilt.set_centre_of_rotation(offset=offset)\n",
    "ag_tilt.config.system.rotation_axis.direction = [0,-np.sin(tilt), np.cos(tilt)]\n",
    "ig_tilt = ag_tilt.get_ImageGeometry()"
   ]
  },
  {
   "cell_type": "code",
   "execution_count": null,
   "metadata": {},
   "outputs": [],
   "source": [
    "print(ag)"
   ]
  },
  {
   "cell_type": "code",
   "execution_count": null,
   "metadata": {},
   "outputs": [],
   "source": [
    "fbp = FBP(ig_tilt, ag_tilt)\n",
    "fbp.set_input(data_norm)\n",
    "recon = fbp.get_output()"
   ]
  }
 ],
 "metadata": {
  "kernelspec": {
   "display_name": "cil_test",
   "language": "python",
   "name": "python3"
  },
  "language_info": {
   "codemirror_mode": {
    "name": "ipython",
    "version": 3
   },
   "file_extension": ".py",
   "mimetype": "text/x-python",
   "name": "python",
   "nbconvert_exporter": "python",
   "pygments_lexer": "ipython3",
   "version": "3.12.9"
  }
 },
 "nbformat": 4,
 "nbformat_minor": 2
}
